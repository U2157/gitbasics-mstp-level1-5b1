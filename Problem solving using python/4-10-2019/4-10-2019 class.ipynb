{
 "cells": [
  {
   "cell_type": "code",
   "execution_count": 1,
   "metadata": {},
   "outputs": [],
   "source": [
    "# File modes\n",
    "#tell\n",
    "#seek\n",
    "#w+=write and read"
   ]
  },
  {
   "cell_type": "code",
   "execution_count": 8,
   "metadata": {},
   "outputs": [
    {
     "name": "stdout",
     "output_type": "stream",
     "text": [
      "<_io.TextIOWrapper name='file_operations.txt' mode='w' encoding='cp1252'>\n"
     ]
    }
   ],
   "source": [
    "def file():\n",
    "    file=open(\"file_operations.txt\",\"w\")\n",
    "    file.write(\"kvsw\")\n",
    "    file.close()\n",
    "    print(file)\n",
    "file()"
   ]
  },
  {
   "cell_type": "code",
   "execution_count": 64,
   "metadata": {},
   "outputs": [
    {
     "name": "stdout",
     "output_type": "stream",
     "text": [
      "121\n",
      "palindrome\n"
     ]
    }
   ],
   "source": [
    "n=int(input())\n",
    "temp=n\n",
    "s=0\n",
    "while (n>0):\n",
    "    r=n%10\n",
    "    s=s*10+r\n",
    "    n=n//10\n",
    "if temp==s:\n",
    "    print(\"palindrome\")\n",
    "else:\n",
    "    print(\"not palindrome\")\n",
    "    "
   ]
  },
  {
   "cell_type": "code",
   "execution_count": 62,
   "metadata": {},
   "outputs": [],
   "source": [
    "filepath=\"file_operation.txt\"\n",
    "def filewrite(filepath,mode):\n",
    "    with open(filepath,'w') as f:\n",
    "        f.write(mode)\n",
    "        f.write(\"welcome world\")\n",
    "filewrite(filepath,\"hello\")"
   ]
  },
  {
   "cell_type": "code",
   "execution_count": 29,
   "metadata": {},
   "outputs": [
    {
     "name": "stdout",
     "output_type": "stream",
     "text": [
      "hellowelcome world\n",
      "18\n"
     ]
    }
   ],
   "source": [
    "f=open(\"file_operation.txt\",'r')\n",
    "f1=f.read()\n",
    "print(f1)\n",
    "print(f.tell())\n",
    "f.close()"
   ]
  },
  {
   "cell_type": "code",
   "execution_count": 31,
   "metadata": {},
   "outputs": [
    {
     "data": {
      "text/plain": [
       "18"
      ]
     },
     "execution_count": 31,
     "metadata": {},
     "output_type": "execute_result"
    }
   ],
   "source": [
    "x=open(\"file_operation.txt\",'r')\n",
    "x.read()\n",
    "x.tell()"
   ]
  },
  {
   "cell_type": "code",
   "execution_count": 34,
   "metadata": {},
   "outputs": [
    {
     "name": "stdout",
     "output_type": "stream",
     "text": [
      "hellowelcome world\n",
      "lowelcome world\n"
     ]
    }
   ],
   "source": [
    "x=open(\"file_operation.txt\",'r')\n",
    "print(x.read())\n",
    "x.seek(3)\n",
    "x.tell()\n",
    "print(x.read())\n"
   ]
  },
  {
   "cell_type": "code",
   "execution_count": 37,
   "metadata": {},
   "outputs": [
    {
     "name": "stdout",
     "output_type": "stream",
     "text": [
      "swathi is a good girl\n"
     ]
    }
   ],
   "source": [
    "filepath=\"file_operation.txt\"\n",
    "def writeread(filepath):\n",
    "    with open(filepath,'w+') as f:\n",
    "        f.write(\"uswathi is a good girl\")\n",
    "        f.seek(1)\n",
    "        f1=f.read()\n",
    "        print(f1)\n",
    "writeread(filepath)"
   ]
  },
  {
   "cell_type": "code",
   "execution_count": 68,
   "metadata": {},
   "outputs": [
    {
     "name": "stdout",
     "output_type": "stream",
     "text": [
      "swathi\n",
      "not palindrome\n"
     ]
    }
   ],
   "source": [
    "n=input()\n",
    "def palindrome(n):\n",
    "    n1=n[::-1]\n",
    "    if(n1==n):\n",
    "        print(\"palindrome\")\n",
    "    else:\n",
    "        print(\"not palindrome\")\n",
    "palindrome(n)"
   ]
  },
  {
   "cell_type": "code",
   "execution_count": null,
   "metadata": {},
   "outputs": [],
   "source": []
  }
 ],
 "metadata": {
  "kernelspec": {
   "display_name": "Python 3",
   "language": "python",
   "name": "python3"
  },
  "language_info": {
   "codemirror_mode": {
    "name": "ipython",
    "version": 3
   },
   "file_extension": ".py",
   "mimetype": "text/x-python",
   "name": "python",
   "nbconvert_exporter": "python",
   "pygments_lexer": "ipython3",
   "version": "3.7.3"
  }
 },
 "nbformat": 4,
 "nbformat_minor": 2
}
