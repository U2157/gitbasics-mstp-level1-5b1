{
 "cells": [
  {
   "cell_type": "markdown",
   "metadata": {},
   "source": [
    "## Regular expressions\n",
    "    1.abc(that exact that matches the char sequence anywhere in the string.\n",
    "    2.^abc(it defines the beginning of the string).\n",
    "    3.abc$(it defines the end of the string).\n",
    "    4.^a[a-z][A-Z]b$ (it defines that starts with a and ends with b middle a-z any letter).\n",
    "    5.a|b(it either of a and b).\n",
    "    6.^abc|abc$(it defines that either string starts with abc or ends with abc).\n",
    "    7.^a[a-z]|[A-Z]b$ (it defines that starts with a and ends with b middle starts with a and a-zor A-Z ends with b any letter).\n",
    "    8.a,b{2,4}c(it defines a followed by 2,3,4 b's followed by c).\n",
    "    9.ab*c(it defines that a followed by zero or more b's followed by c).\n",
    "    10.^a[a-z]{2,}[A-Z]d$(here a can be repeated no.of times).\n",
    "    11.ab+c(it defines that a followed by one or more b's followed by c).\n",
    "    12.ab?c(it defines that a followed by optional b followed by c i.e.. either abc or ac).\n",
    "    13.a.c(it defines that a followed by single char(not newline) followed by c).\n",
    "    \n",
    "\n",
    "    \n",
    "    "
   ]
  },
  {
   "cell_type": "markdown",
   "metadata": {},
   "source": [
    "## Email validation"
   ]
  },
  {
   "cell_type": "code",
   "execution_count": 8,
   "metadata": {},
   "outputs": [
    {
     "name": "stdout",
     "output_type": "stream",
     "text": [
      "1\n",
      "1\n",
      "0\n"
     ]
    }
   ],
   "source": [
    "import re\n",
    "def email(n):\n",
    "    a='^([0-9]|[a-z]|[A-Z])([0-9]|[a-z]|[A-Z]|[_]){6,14}([0-9]|[a-z])@[a-z]{2,10}[.][a-z]{2,4}$'\n",
    "    if re.match(a,n):\n",
    "        return 1\n",
    "    else:\n",
    "        return 0\n",
    "print(email(\"upparaswathi2157@gmail.com\"))\n",
    "print(email(\"162t1a05b1@apssdc.info\"))\n",
    "print(email(\"kvsw.apssdc.info\"))"
   ]
  },
  {
   "cell_type": "markdown",
   "metadata": {},
   "source": [
    "## Phone number  validation"
   ]
  },
  {
   "cell_type": "code",
   "execution_count": 9,
   "metadata": {},
   "outputs": [
    {
     "name": "stdout",
     "output_type": "stream",
     "text": [
      "1\n",
      "1\n",
      "1\n"
     ]
    }
   ],
   "source": [
    "# ^[0][6-9][0-9]{9}$ ----->10 digit no starting with 0\n",
    "# ^+91[6-9][0-9]{9}$ ----->10 digit no starting with +91\n",
    "# ^[6-9][0-9]{9}$\n",
    "import re\n",
    "def phoneno(no):\n",
    "    pattern='^[+][9][1][6-9][0-9]{9}$|^[6-9][0-9]{9}|^[0][6-9][0-9]{9}$'\n",
    "    if re.match(pattern,no):\n",
    "        return 1\n",
    "    else:\n",
    "        return 0\n",
    "print(phoneno(\"9701128589\"))\n",
    "print(phoneno(\"+919701128589\"))\n",
    "print(phoneno(\"09701128589\"))\n",
    "\n"
   ]
  },
  {
   "cell_type": "code",
   "execution_count": 10,
   "metadata": {},
   "outputs": [
    {
     "name": "stdout",
     "output_type": "stream",
     "text": [
      "contact chinnu already exixsts\n"
     ]
    },
    {
     "data": {
      "text/plain": [
       "{'swathi': ['9701128589', 'upparaswathi2157@gmail.com'],\n",
       " 'chinnu': ['7981010064', 'saiteja1234@gmail.com'],\n",
       " 'deepu': ['7382890526', 'deepu2145@gmail.com']}"
      ]
     },
     "execution_count": 10,
     "metadata": {},
     "output_type": "execute_result"
    }
   ],
   "source": [
    "\n",
    "contact={'swathi':[\"9701128589\",\"upparaswathi2157@gmail.com\"],'chinnu':[\"7981010064\",\"saiteja1234@gmail.com\"]}\n",
    "def addcontact(name,l):\n",
    "    if name not in contact:\n",
    "        no=l[0]\n",
    "        id=l[1]\n",
    "        if phoneno(no)==1:\n",
    "            if email(id)==1:\n",
    "                contact[name]=l\n",
    "        else:\n",
    "            print(\"enter a valid no and email\")\n",
    "    else:\n",
    "        print(\"contact %s already exixsts\"%name)\n",
    "addcontact(\"deepu\",[\"7382890526\",\"deepu2145@gmail.com\"])\n",
    "addcontact(\"chinnu\",[\"7981010064\",'chinnu2345@gmail.com'])\n",
    "contact"
   ]
  },
  {
   "cell_type": "code",
   "execution_count": null,
   "metadata": {},
   "outputs": [],
   "source": []
  },
  {
   "cell_type": "code",
   "execution_count": null,
   "metadata": {},
   "outputs": [],
   "source": []
  }
 ],
 "metadata": {
  "kernelspec": {
   "display_name": "Python 3",
   "language": "python",
   "name": "python3"
  },
  "language_info": {
   "codemirror_mode": {
    "name": "ipython",
    "version": 3
   },
   "file_extension": ".py",
   "mimetype": "text/x-python",
   "name": "python",
   "nbconvert_exporter": "python",
   "pygments_lexer": "ipython3",
   "version": "3.7.3"
  }
 },
 "nbformat": 4,
 "nbformat_minor": 2
}
