{
 "cells": [
  {
   "cell_type": "markdown",
   "metadata": {},
   "source": [
    "##### .Write a Python program to generate and print a list and a dictionary of square of numbers between 1 and 15 (both included) "
   ]
  },
  {
   "cell_type": "code",
   "execution_count": 11,
   "metadata": {},
   "outputs": [
    {
     "name": "stdout",
     "output_type": "stream",
     "text": [
      "{1: 1, 2: 4, 3: 9, 4: 16, 5: 25, 6: 36, 7: 49, 8: 64, 9: 81, 10: 100, 11: 121, 12: 144, 13: 169, 14: 196, 15: 225}\n",
      "[1, 4, 9, 16, 25, 36, 49, 64, 81, 100, 121, 144, 169, 196, 225]\n"
     ]
    }
   ],
   "source": [
    "a={}\n",
    "k=[]\n",
    "n=15\n",
    "for i in range(1,n+1):\n",
    "    a[i]=i**2\n",
    "    k.append(i**2)    \n",
    "print(a)\n",
    "print(k)"
   ]
  },
  {
   "cell_type": "markdown",
   "metadata": {},
   "source": [
    "##### Take 10 integer inputs from user and store them in a list and print them on screen."
   ]
  },
  {
   "cell_type": "code",
   "execution_count": 3,
   "metadata": {},
   "outputs": [
    {
     "name": "stdout",
     "output_type": "stream",
     "text": [
      "0 1 2 3 4 5 6 7 8 9\n",
      "[0, 1, 2, 3, 4, 5, 6, 7, 8, 9]\n"
     ]
    }
   ],
   "source": [
    "a=list(map(int,input().split()))\n",
    "print(a)"
   ]
  },
  {
   "cell_type": "markdown",
   "metadata": {},
   "source": [
    "#### l=[1,5,7,3,2,4,5,9],print list of all even numbers from the given list "
   ]
  },
  {
   "cell_type": "code",
   "execution_count": 4,
   "metadata": {},
   "outputs": [
    {
     "name": "stdout",
     "output_type": "stream",
     "text": [
      "[2, 4]\n"
     ]
    }
   ],
   "source": [
    "l=[1,5,7,3,2,4,5,9]\n",
    "l1=[]\n",
    "for i in l:\n",
    "    if(i%2==0):\n",
    "        l1.append(i)\n",
    "print(l1)"
   ]
  },
  {
   "cell_type": "markdown",
   "metadata": {},
   "source": [
    "##### Use dictionary to store antonyms of words. \n",
    "\n",
    "E.g.- 'Right':'Left', 'Up':'Down', etc. Display all words and then ask user to enter a word and display antonym of it."
   ]
  },
  {
   "cell_type": "code",
   "execution_count": 2,
   "metadata": {},
   "outputs": [
    {
     "name": "stdout",
     "output_type": "stream",
     "text": [
      "['right', 'down']\n",
      "right\n",
      "left\n"
     ]
    }
   ],
   "source": [
    "p={\"right\":\"left\",\"down\":\"up\"}\n",
    "print(list(p.keys()))\n",
    "n=input()\n",
    "print(p.get(n)) #print(p(n))\n",
    "#print(p.values())"
   ]
  },
  {
   "cell_type": "markdown",
   "metadata": {},
   "source": [
    "##### Count the number of occurrence of each letter in word \"MISSISSIPPI\". Store count of every letter with the letter in a dictionary."
   ]
  },
  {
   "cell_type": "code",
   "execution_count": 12,
   "metadata": {},
   "outputs": [
    {
     "name": "stdout",
     "output_type": "stream",
     "text": [
      "M:1\n",
      "P:2\n",
      "I:4\n",
      "S:4\n"
     ]
    }
   ],
   "source": [
    "a=\"MISSISSIPPI\"\n",
    "d={}\n",
    "p=list(set(a))\n",
    "for i in p:\n",
    "    print(i,a.count(i),sep=\":\")\n",
    "    "
   ]
  },
  {
   "cell_type": "markdown",
   "metadata": {},
   "source": [
    "#### From the previous question, sort according to the number of letters"
   ]
  },
  {
   "cell_type": "code",
   "execution_count": 16,
   "metadata": {},
   "outputs": [
    {
     "name": "stdout",
     "output_type": "stream",
     "text": [
      "I:4\n",
      "M:1\n",
      "P:2\n",
      "S:4\n",
      "{}\n"
     ]
    }
   ],
   "source": [
    "a=\"MISSISSIPPI\"\n",
    "p=list(set(a))\n",
    "p=sorted(p)\n",
    "for i in p:\n",
    "    print(i,a.count(i),sep=\":\")\n"
   ]
  },
  {
   "cell_type": "markdown",
   "metadata": {},
   "source": [
    "###### Take 10 integer inputs from user and print the following:\n",
    "\n",
    "number of positive numbers\n",
    "\n",
    "number of negative numbers\n",
    "\n",
    "number of odd numbers\n",
    "\n",
    "number of even numbers\n",
    "\n",
    "number of 0s.using dictionaries\n",
    "\n",
    "a=[10,20,-5,-6,3,4,0,0,-2,8]\n",
    "\n",
    "d={p:5,n:3,e:6,odd:2,0:2}"
   ]
  },
  {
   "cell_type": "code",
   "execution_count": 14,
   "metadata": {},
   "outputs": [
    {
     "name": "stdout",
     "output_type": "stream",
     "text": [
      "1\n",
      "22\n",
      "-10\n",
      "-23\n",
      "4\n",
      "0\n",
      "-15\n",
      "-17\n",
      "-18\n",
      "0\n",
      "{'p': 3, 'n': 5, 'o': 4, 'e': 4, 'z': 2}\n"
     ]
    }
   ],
   "source": [
    "#n=list(map(int,input().split()))\n",
    "l=[]\n",
    "for i in range(1,11):\n",
    "    n=int(input())\n",
    "    l.append(n)\n",
    "a={'p':0,'n':0,'o':0,'e':0,'z':0}\n",
    "for j in l:\n",
    "    if j>0:\n",
    "        a['p']+=1\n",
    "        if j%2==0:\n",
    "            a['e']+=1\n",
    "        else:\n",
    "            a['o']+=1\n",
    "    elif j<0:\n",
    "        a['n']+=1\n",
    "        if j%2==0:\n",
    "            a['e']+=1\n",
    "        else:\n",
    "            a['o']+=1\n",
    "    elif j==0:\n",
    "        a['z']+=1\n",
    "print(a)        \n",
    "    "
   ]
  },
  {
   "cell_type": "markdown",
   "metadata": {},
   "source": [
    "##### Ask user to give name and marks of 10 different students. Store them in dictionary."
   ]
  },
  {
   "cell_type": "code",
   "execution_count": 6,
   "metadata": {},
   "outputs": [
    {
     "name": "stdout",
     "output_type": "stream",
     "text": [
      "10\n",
      "nameH\n",
      "marks100\n",
      "nameS\n",
      "marks100\n",
      "namechinnu\n",
      "marks200\n",
      "namesp\n",
      "marks100\n",
      "namepspk\n",
      "marks150\n",
      "namep\n",
      "marks123\n",
      "namebunny\n",
      "marks100\n",
      "named\n",
      "marks190\n",
      "namehss\n",
      "marks500\n",
      "nameff\n",
      "marks20\n",
      "{'H': 100, 'S': 100, 'chinnu': 200, 'sp': 100, 'pspk': 150, 'p': 123, 'bunny': 100, 'd': 190, 'hss': 500, 'ff': 20}\n"
     ]
    }
   ],
   "source": [
    "n=int(input())\n",
    "a={}\n",
    "for i in range(n):    \n",
    "    name=input(\"name\")   \n",
    "    marks=int(input(\"marks\"))\n",
    "    a[name]=marks\n",
    "print(a)\n"
   ]
  },
  {
   "cell_type": "markdown",
   "metadata": {},
   "source": [
    "##### Sort the dictionary created in previous example according to marks."
   ]
  },
  {
   "cell_type": "code",
   "execution_count": 7,
   "metadata": {},
   "outputs": [
    {
     "name": "stdout",
     "output_type": "stream",
     "text": [
      "10\n",
      "names\n",
      "marks20\n",
      "named\n",
      "marks90\n",
      "namei\n",
      "marks0\n",
      "named\n",
      "marks90\n",
      "namen\n",
      "marks09\n",
      "namec\n",
      "marks87\n",
      "namee\n",
      "marks98\n",
      "namew\n",
      "marks098\n",
      "named\n",
      "marks76\n",
      "namea\n",
      "marks98\n",
      "{'s': '20', 'd': '76', 'i': '0', 'n': '09', 'c': '87', 'e': '98', 'w': '098', 'a': '98'}\n",
      "['a', 'c', 'd', 'e', 'i', 'n', 's', 'w']\n",
      "a : 98\n",
      "c : 87\n",
      "d : 76\n",
      "e : 98\n",
      "i : 0\n",
      "n : 09\n",
      "s : 20\n",
      "w : 098\n"
     ]
    }
   ],
   "source": [
    "n=int(input())\n",
    "a={}\n",
    "for i in range(n):\n",
    "    name=input(\"name\")   \n",
    "    marks=input(\"marks\")\n",
    "    a[name]=marks\n",
    "print(a)\n",
    "b=sorted(a.keys())\n",
    "print(b)\n",
    "for i in b:\n",
    "    print(i,\":\",a[i])\n"
   ]
  },
  {
   "cell_type": "code",
   "execution_count": null,
   "metadata": {},
   "outputs": [],
   "source": []
  }
 ],
 "metadata": {
  "kernelspec": {
   "display_name": "Python 3",
   "language": "python",
   "name": "python3"
  },
  "language_info": {
   "codemirror_mode": {
    "name": "ipython",
    "version": 3
   },
   "file_extension": ".py",
   "mimetype": "text/x-python",
   "name": "python",
   "nbconvert_exporter": "python",
   "pygments_lexer": "ipython3",
   "version": "3.7.3"
  }
 },
 "nbformat": 4,
 "nbformat_minor": 2
}
