{
 "cells": [
  {
   "cell_type": "markdown",
   "metadata": {},
   "source": [
    "#### Calculate the square root of a given number "
   ]
  },
  {
   "cell_type": "code",
   "execution_count": 5,
   "metadata": {},
   "outputs": [
    {
     "name": "stdout",
     "output_type": "stream",
     "text": [
      "25\n",
      "5.0\n"
     ]
    }
   ],
   "source": [
    "import math\n",
    "def sqrt(n):\n",
    "    sqrt=(math.sqrt(n))\n",
    "    print(sqrt)\n",
    "n=int(input())\n",
    "sqrt(n)"
   ]
  },
  {
   "cell_type": "markdown",
   "metadata": {},
   "source": [
    "#### Check the number of digits in a given number"
   ]
  },
  {
   "cell_type": "code",
   "execution_count": 40,
   "metadata": {},
   "outputs": [
    {
     "name": "stdout",
     "output_type": "stream",
     "text": [
      "143\n",
      "3\n"
     ]
    }
   ],
   "source": [
    "def numberofdigits(n):\n",
    "    a=len(n)\n",
    "    print(a)\n",
    "n=input()\n",
    "numberofdigits(n)"
   ]
  },
  {
   "cell_type": "markdown",
   "metadata": {},
   "source": [
    "###### 6.A school has following rules for grading system:\n",
    " Below 25 - F\n",
    " \n",
    "25 to 45 - E\n",
    "\n",
    "45 to 50 - D\n",
    "\n",
    "50 to 60 - C\n",
    "\n",
    "60 to 80 - B\n",
    "\n",
    "Above 80 - A\n",
    "            Ask user to enter marks and print the corresponding grade. "
   ]
  },
  {
   "cell_type": "code",
   "execution_count": 32,
   "metadata": {},
   "outputs": [
    {
     "name": "stdout",
     "output_type": "stream",
     "text": [
      "21\n",
      "f\n"
     ]
    }
   ],
   "source": [
    "def marks(n):\n",
    "    if(n<25):\n",
    "        print(\"f\")\n",
    "    elif(n>25 and n<45):\n",
    "        print(\"e\")\n",
    "    elif(n>45 and n<50):\n",
    "        print(\"d\")\n",
    "    elif(n>50 and n<60):\n",
    "        print(\"c\")\n",
    "    elif(n>60 and n<80):\n",
    "        print(\"b\")\n",
    "    else:\n",
    "        print(\"a\")\n",
    "n=int(input())\n",
    "marks(n)\n"
   ]
  },
  {
   "cell_type": "markdown",
   "metadata": {},
   "source": [
    "#### Check if the number exist in a given range (inputs: number(n), range(lower number and upper number) "
   ]
  },
  {
   "cell_type": "code",
   "execution_count": 59,
   "metadata": {},
   "outputs": [
    {
     "name": "stdout",
     "output_type": "stream",
     "text": [
      "10\n",
      "20\n",
      "2\n",
      "yes\n"
     ]
    }
   ],
   "source": [
    "def range(n):\n",
    "    \n",
    "    \n",
    "        if(lb<a<ub):\n",
    "            print(\"yes\")\n",
    "        else:\n",
    "            print(\"no\")\n",
    "lb=int(input())\n",
    "ub=int(input())\n",
    "n=int(input())            \n",
    "range(n)"
   ]
  },
  {
   "cell_type": "markdown",
   "metadata": {},
   "source": [
    "#### Check if the given number is a factor of 1000 "
   ]
  },
  {
   "cell_type": "code",
   "execution_count": 35,
   "metadata": {},
   "outputs": [
    {
     "name": "stdout",
     "output_type": "stream",
     "text": [
      "999\n",
      "not factor\n"
     ]
    }
   ],
   "source": [
    "def fact(n):\n",
    "    fact=1\n",
    "    if(n%1000==0):\n",
    "        print(\"factor\")\n",
    "    else:\n",
    "        print(\"not factor\")\n",
    "n=int(input())\n",
    "fact(n)"
   ]
  },
  {
   "cell_type": "markdown",
   "metadata": {},
   "source": [
    "#### python program to take values of length and breadth(width) of a rectangle from user and check if it is square or not. . "
   ]
  },
  {
   "cell_type": "code",
   "execution_count": 53,
   "metadata": {},
   "outputs": [
    {
     "name": "stdout",
     "output_type": "stream",
     "text": [
      "5\n",
      "9\n",
      "rectangle\n"
     ]
    }
   ],
   "source": [
    "def square(l,b):\n",
    "    if(l==b):\n",
    "        print(\"square\")\n",
    "    else:\n",
    "        print(\"rectangle\")\n",
    "l=int(input())\n",
    "b=int(input())\n",
    "square(l,b)"
   ]
  },
  {
   "cell_type": "markdown",
   "metadata": {},
   "source": [
    "#### Take input of age of 3 people by user and determine oldest and youngest among them. "
   ]
  },
  {
   "cell_type": "code",
   "execution_count": 38,
   "metadata": {},
   "outputs": [
    {
     "name": "stdout",
     "output_type": "stream",
     "text": [
      "34\n",
      "56\n",
      "78\n",
      "oldest 78\n",
      "young 34\n"
     ]
    }
   ],
   "source": [
    "ramesh=int(input())\n",
    "suresh=int(input())\n",
    "mahesh=int(input())\n",
    "if(ramesh>suresh and ramesh>mahesh):\n",
    "    oldest=ramesh\n",
    "elif(suresh>ramesh and suresh>mahesh):\n",
    "    oldest=suresh\n",
    "else:\n",
    "    oldest=mahesh\n",
    "if(ramesh<suresh and ramesh<mahesh):\n",
    "    young=ramesh\n",
    "elif(suresh<ramesh and suresh<mahesh):\n",
    "    young=suresh\n",
    "else:\n",
    "    young=mahesh\n",
    "print(\"oldest\",oldest)\n",
    "print(\"young\",young)\n"
   ]
  },
  {
   "cell_type": "markdown",
   "metadata": {},
   "source": [
    "#### A student will not be allowed to sit in exam if his/her attendance is less than 75%.\n",
    "\n",
    "Take following input from user Number of classes held,Number of classes attended.\n",
    "\n",
    "And print percentage of class attended Is student is allowed to sit in exam or not. \n"
   ]
  },
  {
   "cell_type": "code",
   "execution_count": 51,
   "metadata": {},
   "outputs": [
    {
     "name": "stdout",
     "output_type": "stream",
     "text": [
      "23\n",
      "22\n",
      "104.54545454545455\n",
      "allow to exam\n"
     ]
    }
   ],
   "source": [
    "def attendance(ch,ca):\n",
    "    a=((ch/ca)*100)\n",
    "    print(a)\n",
    "    if(a>=75):\n",
    "        print(\"allow to exam\")\n",
    "    else:\n",
    "        print(\"not allowed to exam\")\n",
    "ch=int(input())\n",
    "ca=int(input())\n",
    "attendance(ch,ca)\n"
   ]
  },
  {
   "cell_type": "code",
   "execution_count": null,
   "metadata": {},
   "outputs": [],
   "source": []
  }
 ],
 "metadata": {
  "kernelspec": {
   "display_name": "Python 3",
   "language": "python",
   "name": "python3"
  },
  "language_info": {
   "codemirror_mode": {
    "name": "ipython",
    "version": 3
   },
   "file_extension": ".py",
   "mimetype": "text/x-python",
   "name": "python",
   "nbconvert_exporter": "python",
   "pygments_lexer": "ipython3",
   "version": "3.7.3"
  }
 },
 "nbformat": 4,
 "nbformat_minor": 2
}
