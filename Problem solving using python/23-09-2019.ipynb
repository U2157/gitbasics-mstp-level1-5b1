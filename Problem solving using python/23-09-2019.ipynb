{
 "cells": [
  {
   "cell_type": "code",
   "execution_count": 1,
   "metadata": {},
   "outputs": [
    {
     "name": "stdout",
     "output_type": "stream",
     "text": [
      "swathi\n",
      "deepu\n"
     ]
    }
   ],
   "source": [
    "for p in range(2):\n",
    "    in_=input()"
   ]
  },
  {
   "cell_type": "code",
   "execution_count": 9,
   "metadata": {},
   "outputs": [
    {
     "name": "stdout",
     "output_type": "stream",
     "text": [
      "11\n",
      "10\n",
      "9\n",
      "8\n",
      "7\n",
      "6\n",
      "5\n",
      "4\n",
      "3\n",
      "2\n",
      "1\n"
     ]
    }
   ],
   "source": [
    "for s in range(11,0,-1):\n",
    "    print(s)"
   ]
  },
  {
   "cell_type": "code",
   "execution_count": 46,
   "metadata": {},
   "outputs": [
    {
     "ename": "SyntaxError",
     "evalue": "invalid syntax (<ipython-input-46-187eff6e24f8>, line 1)",
     "output_type": "error",
     "traceback": [
      "\u001b[1;36m  File \u001b[1;32m\"<ipython-input-46-187eff6e24f8>\"\u001b[1;36m, line \u001b[1;32m1\u001b[0m\n\u001b[1;33m    for(i==0:i<n:i++):\u001b[0m\n\u001b[1;37m            ^\u001b[0m\n\u001b[1;31mSyntaxError\u001b[0m\u001b[1;31m:\u001b[0m invalid syntax\n"
     ]
    }
   ],
   "source": [
    "for(i==0:i<n:i++):\n",
    "in_=input()\n",
    "if(input%4==0|input%400==0)\n",
    "    print(\"leap year\")\n",
    "else:\n",
    "        print(\"not a leap year\")\n",
    "    "
   ]
  },
  {
   "cell_type": "code",
   "execution_count": 19,
   "metadata": {},
   "outputs": [
    {
     "ename": "SyntaxError",
     "evalue": "invalid syntax (<ipython-input-19-08fbc8051641>, line 5)",
     "output_type": "error",
     "traceback": [
      "\u001b[1;36m  File \u001b[1;32m\"<ipython-input-19-08fbc8051641>\"\u001b[1;36m, line \u001b[1;32m5\u001b[0m\n\u001b[1;33m    else(i!%100):\u001b[0m\n\u001b[1;37m        ^\u001b[0m\n\u001b[1;31mSyntaxError\u001b[0m\u001b[1;31m:\u001b[0m invalid syntax\n"
     ]
    }
   ],
   "source": [
    "for i in range(2):\n",
    "    in_=input(ub,lb)\n",
    "if (i%4==0&i%400):\n",
    "    print(\"leap year\")\n",
    "else(i!%100):\n",
    "    print(\"not a leap year\")\n",
    "    "
   ]
  },
  {
   "cell_type": "code",
   "execution_count": 47,
   "metadata": {},
   "outputs": [
    {
     "name": "stdout",
     "output_type": "stream",
     "text": [
      "lop 0\n",
      "0\n",
      "lop 1\n",
      "1\n",
      "lop 3\n",
      "3\n",
      "lop 6\n",
      "6\n",
      "lop 10\n",
      "10\n",
      "lop 15\n",
      "15\n",
      "lop 21\n",
      "21\n",
      "lop 28\n",
      "28\n",
      "lop 36\n",
      "36\n",
      "lop 45\n",
      "45\n"
     ]
    }
   ],
   "source": [
    "s=0\n",
    "i=0\n",
    "while(i<=9):\n",
    "    s=s+i\n",
    "    i=i+1\n",
    "    #i+=1\n",
    "    print(\"lop\",s)\n",
    "    print(s)"
   ]
  },
  {
   "cell_type": "code",
   "execution_count": 58,
   "metadata": {},
   "outputs": [
    {
     "ename": "IndentationError",
     "evalue": "expected an indented block (<ipython-input-58-1c4cd1130a28>, line 2)",
     "output_type": "error",
     "traceback": [
      "\u001b[1;36m  File \u001b[1;32m\"<ipython-input-58-1c4cd1130a28>\"\u001b[1;36m, line \u001b[1;32m2\u001b[0m\n\u001b[1;33m    in_=input()\u001b[0m\n\u001b[1;37m      ^\u001b[0m\n\u001b[1;31mIndentationError\u001b[0m\u001b[1;31m:\u001b[0m expected an indented block\n"
     ]
    }
   ],
   "source": [
    "for i in range(3):\n",
    "in_=input()\n",
    "s=2\n",
    "p=5\n",
    "while(i<=3):\n",
    "    input(1)\n",
    "print(s+p)\n",
    "input(2)\n",
    "print(s*p)\n",
    "input(3)\n",
    "print(s/p)"
   ]
  },
  {
   "cell_type": "code",
   "execution_count": 59,
   "metadata": {},
   "outputs": [
    {
     "data": {
      "text/plain": [
       "['__add__',\n",
       " '__class__',\n",
       " '__contains__',\n",
       " '__delattr__',\n",
       " '__dir__',\n",
       " '__doc__',\n",
       " '__eq__',\n",
       " '__format__',\n",
       " '__ge__',\n",
       " '__getattribute__',\n",
       " '__getitem__',\n",
       " '__getnewargs__',\n",
       " '__gt__',\n",
       " '__hash__',\n",
       " '__init__',\n",
       " '__init_subclass__',\n",
       " '__iter__',\n",
       " '__le__',\n",
       " '__len__',\n",
       " '__lt__',\n",
       " '__mod__',\n",
       " '__mul__',\n",
       " '__ne__',\n",
       " '__new__',\n",
       " '__reduce__',\n",
       " '__reduce_ex__',\n",
       " '__repr__',\n",
       " '__rmod__',\n",
       " '__rmul__',\n",
       " '__setattr__',\n",
       " '__sizeof__',\n",
       " '__str__',\n",
       " '__subclasshook__',\n",
       " 'capitalize',\n",
       " 'casefold',\n",
       " 'center',\n",
       " 'count',\n",
       " 'encode',\n",
       " 'endswith',\n",
       " 'expandtabs',\n",
       " 'find',\n",
       " 'format',\n",
       " 'format_map',\n",
       " 'index',\n",
       " 'isalnum',\n",
       " 'isalpha',\n",
       " 'isascii',\n",
       " 'isdecimal',\n",
       " 'isdigit',\n",
       " 'isidentifier',\n",
       " 'islower',\n",
       " 'isnumeric',\n",
       " 'isprintable',\n",
       " 'isspace',\n",
       " 'istitle',\n",
       " 'isupper',\n",
       " 'join',\n",
       " 'ljust',\n",
       " 'lower',\n",
       " 'lstrip',\n",
       " 'maketrans',\n",
       " 'partition',\n",
       " 'replace',\n",
       " 'rfind',\n",
       " 'rindex',\n",
       " 'rjust',\n",
       " 'rpartition',\n",
       " 'rsplit',\n",
       " 'rstrip',\n",
       " 'split',\n",
       " 'splitlines',\n",
       " 'startswith',\n",
       " 'strip',\n",
       " 'swapcase',\n",
       " 'title',\n",
       " 'translate',\n",
       " 'upper',\n",
       " 'zfill']"
      ]
     },
     "execution_count": 59,
     "metadata": {},
     "output_type": "execute_result"
    }
   ],
   "source": [
    "dir(str)"
   ]
  },
  {
   "cell_type": "markdown",
   "metadata": {},
   "source": [
    "# String Methods"
   ]
  },
  {
   "cell_type": "markdown",
   "metadata": {},
   "source": [
    "## Is upper and Is lower"
   ]
  },
  {
   "cell_type": "code",
   "execution_count": 60,
   "metadata": {},
   "outputs": [
    {
     "name": "stdout",
     "output_type": "stream",
     "text": [
      "False\n",
      "True\n",
      "A\n",
      "MACHIRAJU\n"
     ]
    }
   ],
   "source": [
    "a=\"Machiraju\"\n",
    "print(a[1].isupper())\n",
    "print(a[0].isupper()) ## To find tht given string is in upper or not(if upper(true),not(false))\n",
    "print(a[1].upper())\n",
    "print(a.upper())"
   ]
  },
  {
   "cell_type": "code",
   "execution_count": 65,
   "metadata": {},
   "outputs": [
    {
     "data": {
      "text/plain": [
       "9"
      ]
     },
     "execution_count": 65,
     "metadata": {},
     "output_type": "execute_result"
    }
   ],
   "source": [
    "s=\"multiskill\"\n",
    "s.find('m')\n",
    "s.find('i',5,len(s))\n",
    "s.find('l',-1)   ## to find ll count"
   ]
  },
  {
   "cell_type": "code",
   "execution_count": 66,
   "metadata": {},
   "outputs": [
    {
     "data": {
      "text/plain": [
       "4"
      ]
     },
     "execution_count": 66,
     "metadata": {},
     "output_type": "execute_result"
    }
   ],
   "source": [
    "## index\n",
    "a=\"index\"\n",
    "a.index('x')"
   ]
  },
  {
   "cell_type": "code",
   "execution_count": 67,
   "metadata": {},
   "outputs": [
    {
     "name": "stdout",
     "output_type": "stream",
     "text": [
      "False\n",
      "True\n",
      "False\n",
      "False\n"
     ]
    }
   ],
   "source": [
    "s=\"143swathi\"\n",
    "a=s.isdigit ()\n",
    "print(a)\n",
    "s=\"1234\"\n",
    "print(s.isdigit())\n",
    "## ISALPHA\n",
    "s=\"abc1234\"\n",
    "print(s.isalpha())\n",
    "print(s.isalpha())\n"
   ]
  },
  {
   "cell_type": "markdown",
   "metadata": {},
   "source": [
    "## split"
   ]
  },
  {
   "cell_type": "code",
   "execution_count": 69,
   "metadata": {},
   "outputs": [
    {
     "name": "stdout",
     "output_type": "stream",
     "text": [
      "['kvsw', 'womens']\n",
      "['kvsw', ' womens']\n"
     ]
    }
   ],
   "source": [
    "a=\"kvsw womens\"\n",
    "b=a.split()\n",
    "print(b)\n",
    "a=\"kvsw, womens\"\n",
    "b=a.split(',')\n",
    "print(b)"
   ]
  },
  {
   "cell_type": "code",
   "execution_count": 70,
   "metadata": {},
   "outputs": [
    {
     "name": "stdout",
     "output_type": "stream",
     "text": [
      "['www', 'google.com']\n",
      "['google', 'com']\n",
      "www,google,com\n"
     ]
    }
   ],
   "source": [
    "h=\"www/google.com\"\n",
    "a=h.split('/')\n",
    "print(a)\n",
    "b=a[1].split('.')\n",
    "print(b)\n",
    "d=a[0]\n",
    "e=b[0]\n",
    "f=b[1]\n",
    "print(d,e,f,sep=\",\")"
   ]
  },
  {
   "cell_type": "code",
   "execution_count": 71,
   "metadata": {},
   "outputs": [
    {
     "name": "stdout",
     "output_type": "stream",
     "text": [
      "10\n",
      "11\n",
      "12\n"
     ]
    }
   ],
   "source": [
    "a=\"10 11 12 13 14 15\"\n",
    "b=a.split()\n",
    "print(b[0])\n",
    "print(b[1])\n",
    "print(b[2])"
   ]
  },
  {
   "cell_type": "markdown",
   "metadata": {},
   "source": [
    "## Join"
   ]
  },
  {
   "cell_type": "code",
   "execution_count": 72,
   "metadata": {},
   "outputs": [
    {
     "name": "stdout",
     "output_type": "stream",
     "text": [
      "I,n,d,i,a\n",
      "s,w,a,t,h,i\n"
     ]
    }
   ],
   "source": [
    "a=\"India\"\n",
    "b=\",\".join(a)\n",
    "print(b)\n",
    "a=\"swathi\"\n",
    "b=\",\".join(a)\n",
    "print(b)"
   ]
  },
  {
   "cell_type": "markdown",
   "metadata": {},
   "source": [
    "## Replace"
   ]
  },
  {
   "cell_type": "code",
   "execution_count": 73,
   "metadata": {},
   "outputs": [
    {
     "name": "stdout",
     "output_type": "stream",
     "text": [
      "swAthi\n"
     ]
    }
   ],
   "source": [
    "s=\"swathi\"\n",
    "a=s.replace('a','A',1) ##to replace one value\n",
    "print(a)"
   ]
  },
  {
   "cell_type": "markdown",
   "metadata": {},
   "source": [
    "# Strip"
   ]
  },
  {
   "cell_type": "code",
   "execution_count": 2,
   "metadata": {},
   "outputs": [
    {
     "name": "stdout",
     "output_type": "stream",
     "text": [
      "23\n",
      "28\n",
      "29\n"
     ]
    }
   ],
   "source": [
    "s=\"      Python is easy to learn     \"\n",
    "c=(s.strip())\n",
    "print(len(c))\n",
    "a=s.lstrip()   ## left strip\n",
    "print(len(a))\n",
    "b=s.rstrip()   ## right strip\n",
    "print(len(b))"
   ]
  },
  {
   "cell_type": "markdown",
   "metadata": {},
   "source": [
    "# Display images"
   ]
  },
  {
   "cell_type": "markdown",
   "metadata": {},
   "source": [
    "<img src=\"swathi.PNG\">"
   ]
  },
  {
   "cell_type": "markdown",
   "metadata": {},
   "source": [
    "# Conditional Statements\n",
    " 1.if(condition)----True only   \n",
    " 2.if-else----True/false\n",
    " 3.nested if----"
   ]
  },
  {
   "cell_type": "code",
   "execution_count": 6,
   "metadata": {},
   "outputs": [
    {
     "name": "stdout",
     "output_type": "stream",
     "text": [
      "x is greter than 0\n"
     ]
    }
   ],
   "source": [
    "x=8\n",
    "if x>0: \n",
    "    print(\"x is greter than 0\")"
   ]
  },
  {
   "cell_type": "code",
   "execution_count": 7,
   "metadata": {},
   "outputs": [
    {
     "name": "stdout",
     "output_type": "stream",
     "text": [
      "x value is greater than 9\n"
     ]
    }
   ],
   "source": [
    "if x>9:\n",
    "    print(\"x is greater than 9\")\n",
    "else:\n",
    "    print(\"x value is greater than 9\")"
   ]
  },
  {
   "cell_type": "code",
   "execution_count": 9,
   "metadata": {},
   "outputs": [
    {
     "name": "stdout",
     "output_type": "stream",
     "text": [
      "swathi\n",
      "strings are equal\n"
     ]
    }
   ],
   "source": [
    "a=input()\n",
    "if a==\"swathi\":\n",
    "    print(\"strings are equal\")\n",
    "else:\n",
    "    print(\"strings are not equal\")"
   ]
  },
  {
   "cell_type": "markdown",
   "metadata": {},
   "source": [
    "### If else"
   ]
  },
  {
   "cell_type": "code",
   "execution_count": 11,
   "metadata": {},
   "outputs": [
    {
     "name": "stdout",
     "output_type": "stream",
     "text": [
      "x is  equal to 89\n"
     ]
    }
   ],
   "source": [
    "x=89\n",
    "if x!=89:\n",
    "    print(\"x is not equal to 89\")\n",
    "elif(x==89):\n",
    "    print(\"x is  equal to 89\")\n",
    "else:\n",
    "        print(\"none\")\n",
    "    \n",
    "        "
   ]
  },
  {
   "cell_type": "code",
   "execution_count": 13,
   "metadata": {},
   "outputs": [
    {
     "name": "stdout",
     "output_type": "stream",
     "text": [
      "23\n",
      "num is odd\n"
     ]
    }
   ],
   "source": [
    "num=int (input())\n",
    "if(num==0):\n",
    "    print(\"num is composite\")\n",
    "elif num%2==0:\n",
    "    print(\"num is even\")\n",
    "else:\n",
    "    print(\"num is odd\") "
   ]
  },
  {
   "cell_type": "markdown",
   "metadata": {},
   "source": [
    "# Checking the elements using if"
   ]
  },
  {
   "cell_type": "code",
   "execution_count": 14,
   "metadata": {},
   "outputs": [
    {
     "name": "stdout",
     "output_type": "stream",
     "text": [
      "there\n"
     ]
    }
   ],
   "source": [
    "s=\"PYThon Awesome\"\n",
    "if \"Th\" in s:\n",
    "    print(\"there\")\n",
    "else:\n",
    "    print(\"not there\")\n",
    "    "
   ]
  },
  {
   "cell_type": "markdown",
   "metadata": {},
   "source": [
    "## Loops\n",
    " 1.for(initialization,condition,increment)\n",
    " 2.while(condition)"
   ]
  },
  {
   "cell_type": "code",
   "execution_count": 15,
   "metadata": {},
   "outputs": [
    {
     "name": "stdout",
     "output_type": "stream",
     "text": [
      "cse mech civil ece "
     ]
    }
   ],
   "source": [
    "var_=[\"cse\",\"mech\",\"civil\",\"ece\"]\n",
    "for i in var_:\n",
    "    print(i,end=\" \") # to keep input side by side\n",
    "    # print(i)"
   ]
  },
  {
   "cell_type": "code",
   "execution_count": 16,
   "metadata": {},
   "outputs": [
    {
     "name": "stdout",
     "output_type": "stream",
     "text": [
      "cse\n",
      "mech\n",
      "civil\n"
     ]
    }
   ],
   "source": [
    "var_=[\"cse\",\"mech\",\"civil\",\"ece\"]\n",
    "for i in var_:\n",
    "    print(i)\n",
    "    if i==\"civil\":\n",
    "        break"
   ]
  },
  {
   "cell_type": "code",
   "execution_count": 19,
   "metadata": {},
   "outputs": [
    {
     "name": "stdout",
     "output_type": "stream",
     "text": [
      "0\n",
      "1\n",
      "2\n",
      "3\n",
      "4\n",
      "5\n"
     ]
    }
   ],
   "source": [
    "for i in range(6):\n",
    "    print(i)"
   ]
  },
  {
   "cell_type": "code",
   "execution_count": 20,
   "metadata": {},
   "outputs": [
    {
     "name": "stdout",
     "output_type": "stream",
     "text": [
      "0\n",
      "3\n",
      "6\n",
      "9\n"
     ]
    }
   ],
   "source": [
    "for i in range(0,11,3):\n",
    "    print(i)"
   ]
  },
  {
   "cell_type": "code",
   "execution_count": 21,
   "metadata": {},
   "outputs": [
    {
     "name": "stdout",
     "output_type": "stream",
     "text": [
      "11\n",
      "9\n",
      "7\n",
      "5\n",
      "3\n",
      "1\n"
     ]
    }
   ],
   "source": [
    "for i in range(11,0,-2):\n",
    "    print(i)"
   ]
  },
  {
   "cell_type": "code",
   "execution_count": null,
   "metadata": {},
   "outputs": [],
   "source": []
  }
 ],
 "metadata": {
  "kernelspec": {
   "display_name": "Python 3",
   "language": "python",
   "name": "python3"
  },
  "language_info": {
   "codemirror_mode": {
    "name": "ipython",
    "version": 3
   },
   "file_extension": ".py",
   "mimetype": "text/x-python",
   "name": "python",
   "nbconvert_exporter": "python",
   "pygments_lexer": "ipython3",
   "version": "3.7.3"
  }
 },
 "nbformat": 4,
 "nbformat_minor": 2
}
