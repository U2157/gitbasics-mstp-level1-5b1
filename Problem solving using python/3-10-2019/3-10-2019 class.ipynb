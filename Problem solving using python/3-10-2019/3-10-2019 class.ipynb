{
 "cells": [
  {
   "cell_type": "markdown",
   "metadata": {},
   "source": [
    "# File Handling\n",
    "    1.Read mode----r\n",
    "    2.Write mode---w\n",
    "    3.append mode--a\n",
    "    4.read&write--r+\n",
    "    5.write&read--w+\n",
    "    6.append&read--a+\n",
    "    7.x---exclusive write mode"
   ]
  },
  {
   "cell_type": "code",
   "execution_count": 1,
   "metadata": {},
   "outputs": [],
   "source": [
    "##SYNTAX FOR FILE OPEN\n",
    "# file opening\n",
    "# file=open(\"sample.txt\",\"mode\")"
   ]
  },
  {
   "cell_type": "code",
   "execution_count": 10,
   "metadata": {},
   "outputs": [],
   "source": [
    "# create a file & add some content\n",
    "s=open(\"data.txt\",'w')\n",
    "s.write(\"welcome swathi\")\n",
    "s.write(\"\\nhello world\")\n",
    "s.close()"
   ]
  },
  {
   "cell_type": "code",
   "execution_count": 12,
   "metadata": {},
   "outputs": [
    {
     "name": "stdout",
     "output_type": "stream",
     "text": [
      "welcome swathi\n",
      "hello world\n"
     ]
    }
   ],
   "source": [
    "#print the content of file\n",
    "filedata=open(\"data.txt\",\"r\")\n",
    "s1=filedata.read()\n",
    "print(s1)\n",
    "filedata.close()"
   ]
  },
  {
   "cell_type": "code",
   "execution_count": 20,
   "metadata": {},
   "outputs": [
    {
     "name": "stdout",
     "output_type": "stream",
     "text": [
      "welcome swathi\n",
      "hello world\n"
     ]
    }
   ],
   "source": [
    "def file(s1):\n",
    "    s1=open(\"data.txt\",\"r\")\n",
    "    data=s1.read()\n",
    "    print(data)\n",
    "s1=\"data.txt\"\n",
    "file(s1)    \n",
    "    "
   ]
  },
  {
   "cell_type": "code",
   "execution_count": 8,
   "metadata": {},
   "outputs": [],
   "source": [
    "def write(s1):\n",
    "    s1=open(\"data.txt\",'w')\n",
    "    s1.write(\"apssdc mstp\")\n",
    "    s1.close()\n",
    "s1=\"data.txt\"\n",
    "write(s1)\n"
   ]
  },
  {
   "cell_type": "code",
   "execution_count": 16,
   "metadata": {},
   "outputs": [],
   "source": [
    "def add(s1):\n",
    "    s1=open(\"data.txt\",'a')\n",
    "    s1.write(\"\\nwelcome world\\n\")\n",
    "    s1.close()\n",
    "s1=\"data.txt\"\n",
    "add(s1)"
   ]
  },
  {
   "cell_type": "code",
   "execution_count": 17,
   "metadata": {},
   "outputs": [
    {
     "name": "stdout",
     "output_type": "stream",
     "text": [
      "apssdc mstpwelcome welcome world\n",
      "welcome world\n",
      "\n"
     ]
    }
   ],
   "source": [
    "def read_filecontent(s1):\n",
    "    s1=open(\"data.txt\",\"r\")\n",
    "    data=s1.read()\n",
    "    print(data)\n",
    "    s1.close()\n",
    "s1=\"data.txt\"\n",
    "read_filecontent(s1)\n",
    "    "
   ]
  },
  {
   "cell_type": "code",
   "execution_count": 20,
   "metadata": {},
   "outputs": [
    {
     "name": "stdout",
     "output_type": "stream",
     "text": [
      "apssdc mstpwelcome welcome world\n",
      "\n"
     ]
    }
   ],
   "source": [
    "f=open(\"data.txt\",'r')\n",
    "x=f.readline()#-------->by using readline print the frst line\n",
    "print(x)"
   ]
  },
  {
   "cell_type": "code",
   "execution_count": 24,
   "metadata": {},
   "outputs": [
    {
     "name": "stdout",
     "output_type": "stream",
     "text": [
      "['apssdc mstpwelcome welcome world\\n', 'welcome world\\n']\n"
     ]
    }
   ],
   "source": [
    "f=open(\"data.txt\",'r')\n",
    "x=f.readlines()#-------->by using readlines print the all lines in list\n",
    "print(x)"
   ]
  },
  {
   "cell_type": "code",
   "execution_count": null,
   "metadata": {},
   "outputs": [],
   "source": [
    "f=open(\"data.txt\",'r')\n",
    "x=f.readlines()\n",
    "for i in x:\n",
    "    x=\n",
    "    print(x)"
   ]
  },
  {
   "cell_type": "code",
   "execution_count": 1,
   "metadata": {},
   "outputs": [
    {
     "name": "stdout",
     "output_type": "stream",
     "text": [
      "apssdc mstpwelcome welcome world\n",
      " welcome world\n",
      " "
     ]
    }
   ],
   "source": [
    "def get_elements(s1):\n",
    "    with open(\"data.txt\",'r') as s1:\n",
    "        f=s1.readlines()\n",
    "        for i in f:\n",
    "            print(i,end=\" \")\n",
    "s1=\"data.txt\"\n",
    "get_elements(s1)\n",
    "            \n",
    "        \n",
    "        \n",
    "    "
   ]
  },
  {
   "cell_type": "code",
   "execution_count": 28,
   "metadata": {},
   "outputs": [
    {
     "name": "stdout",
     "output_type": "stream",
     "text": [
      "2\n"
     ]
    }
   ],
   "source": [
    "def lines_count():\n",
    "    c=0\n",
    "    with open(\"data.txt\",'r') as s1:\n",
    "        f=s1.readlines()\n",
    "        for i in f:\n",
    "            c=c+1\n",
    "        print(c)\n",
    "lines_count()\n",
    "            \n",
    "        \n",
    "    \n"
   ]
  },
  {
   "cell_type": "code",
   "execution_count": 30,
   "metadata": {},
   "outputs": [
    {
     "name": "stdout",
     "output_type": "stream",
     "text": [
      "47\n"
     ]
    }
   ],
   "source": [
    "def char_count():\n",
    "    char=0\n",
    "    with open(\"data.txt\",'r') as s1:\n",
    "        f=s1.read()\n",
    "        for i in f:\n",
    "            char=char+1\n",
    "        print(char)\n",
    "char_count()\n",
    "            \n",
    "        "
   ]
  },
  {
   "cell_type": "code",
   "execution_count": 2,
   "metadata": {},
   "outputs": [
    {
     "name": "stdout",
     "output_type": "stream",
     "text": [
      "6\n"
     ]
    }
   ],
   "source": [
    "def wordcount(filename):\n",
    "    c=0\n",
    "    with open(filename,'r') as s1:\n",
    "        f=s1.read()\n",
    "        f1=f.split()\n",
    "        print(len(f1))\n",
    "wordcount(\"data.txt\")\n",
    "            \n",
    "        "
   ]
  },
  {
   "cell_type": "code",
   "execution_count": 4,
   "metadata": {},
   "outputs": [
    {
     "name": "stdout",
     "output_type": "stream",
     "text": [
      "47\n"
     ]
    }
   ],
   "source": [
    "def lencount(filename):\n",
    "    with open(filename,'r') as s1:\n",
    "        f=s1.read()\n",
    "        #f1=f.split()\n",
    "        print(len(f))\n",
    "lencount(\"data.txt\")\n",
    "            "
   ]
  },
  {
   "cell_type": "code",
   "execution_count": null,
   "metadata": {},
   "outputs": [],
   "source": []
  }
 ],
 "metadata": {
  "kernelspec": {
   "display_name": "Python 3",
   "language": "python",
   "name": "python3"
  }
 },
 "nbformat": 4,
 "nbformat_minor": 2
}
